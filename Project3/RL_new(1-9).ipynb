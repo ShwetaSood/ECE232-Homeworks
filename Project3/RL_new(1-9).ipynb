{
 "cells": [
  {
   "cell_type": "code",
   "execution_count": 2,
   "metadata": {},
   "outputs": [],
   "source": [
    "import numpy as np\n",
    "import matplotlib.pyplot as plt\n",
    "import seaborn as sns; sns.set()"
   ]
  },
  {
   "cell_type": "code",
   "execution_count": 3,
   "metadata": {},
   "outputs": [
    {
     "data": {
      "image/png": "[encoded data removed]",
      "text/plain": [
       "<Figure size 432x288 with 2 Axes>"
      ]
     },
     "metadata": {},
     "output_type": "display_data"
    },
    {
     "name": "stdout",
     "output_type": "stream",
     "text": [
      "[[0. 0. 0. 0. 0. 0. 0. 0. 0. 0.]\n",
      " [0. 0. 0. 0. 0. 0. 0. 0. 0. 0.]\n",
      " [0. 0. 0. 0. 0. 0. 0. 0. 0. 0.]\n",
      " [0. 0. 0. 0. 0. 0. 0. 0. 0. 0.]\n",
      " [0. 0. 0. 0. 0. 0. 0. 0. 0. 0.]\n",
      " [0. 0. 0. 0. 0. 0. 0. 0. 0. 0.]\n",
      " [0. 0. 0. 0. 0. 0. 0. 0. 0. 0.]\n",
      " [0. 0. 0. 0. 0. 0. 0. 0. 0. 0.]\n",
      " [0. 0. 0. 0. 0. 0. 0. 0. 0. 0.]\n",
      " [0. 0. 0. 0. 0. 0. 0. 0. 0. 1.]]\n"
     ]
    }
   ],
   "source": [
    "# Q1\n",
    "reward_1 = np.zeros(shape=[10,10])\n",
    "reward_1[9][9] = 1\n",
    "# plt.pcolor(reward_1)\n",
    "# plt.colorbar();\n",
    "plt.clf()\n",
    "ax = sns.heatmap(reward_1)\n",
    "plt.show()\n",
    "print(reward_1)"
   ]
  },
  {
   "cell_type": "code",
   "execution_count": 14,
   "metadata": {},
   "outputs": [
    {
     "name": "stdout",
     "output_type": "stream",
     "text": [
      "[[   0.    0.    0.    0.    0.    0.    0.    0.    0.    0.]\n",
      " [   0.    0.    0.    0. -100. -100. -100.    0.    0.    0.]\n",
      " [   0.    0.    0.    0. -100.    0. -100.    0.    0.    0.]\n",
      " [   0.    0.    0.    0. -100.    0. -100. -100. -100.    0.]\n",
      " [   0.    0.    0.    0. -100.    0.    0.    0. -100.    0.]\n",
      " [   0.    0.    0.    0. -100.    0.    0.    0. -100.    0.]\n",
      " [   0.    0.    0.    0. -100.    0.    0.    0. -100.    0.]\n",
      " [   0.    0.    0.    0.    0.    0. -100. -100. -100.    0.]\n",
      " [   0.    0.    0.    0.    0.    0. -100.    0.    0.    0.]\n",
      " [   0.    0.    0.    0.    0.    0.    0.    0.    0.   10.]]\n"
     ]
    },
    {
     "data": {
      "image/png": "[encoded data removed]",
      "text/plain": [
       "<Figure size 432x288 with 2 Axes>"
      ]
     },
     "metadata": {},
     "output_type": "display_data"
    }
   ],
   "source": [
    "reward_2 = np.zeros(shape=[10,10])\n",
    "reward_2[1, 4:7] = -100\n",
    "reward_2[1:7, 4] = -100\n",
    "reward_2[1:4, 6] = -100\n",
    "reward_2[3, 6:9] = -100\n",
    "reward_2[3:8, 8] = -100\n",
    "reward_2[7, 6:9] = -100\n",
    "reward_2[8, 6] = -100\n",
    "reward_2[9,9] = 10\n",
    "print(reward_2)\n",
    "# plt.pcolor(reward_2)\n",
    "# plt.colorbar();\n",
    "plt.clf()\n",
    "ax2 = sns.heatmap(reward_2)\n",
    "\n",
    "plt.show()"
   ]
  },
  {
   "cell_type": "code",
   "execution_count": 15,
   "metadata": {},
   "outputs": [
    {
     "name": "stdout",
     "output_type": "stream",
     "text": [
      "[[0.0, 10.0, 20.0, 30.0, 40.0, 50.0, 60.0, 70.0, 80.0, 90.0], [1.0, 11.0, 21.0, 31.0, 41.0, 51.0, 61.0, 71.0, 81.0, 91.0], [2.0, 12.0, 22.0, 32.0, 42.0, 52.0, 62.0, 72.0, 82.0, 92.0], [3.0, 13.0, 23.0, 33.0, 43.0, 53.0, 63.0, 73.0, 83.0, 93.0], [4.0, 14.0, 24.0, 34.0, 44.0, 54.0, 64.0, 74.0, 84.0, 94.0], [5.0, 15.0, 25.0, 35.0, 45.0, 55.0, 65.0, 75.0, 85.0, 95.0], [6.0, 16.0, 26.0, 36.0, 46.0, 56.0, 66.0, 76.0, 86.0, 96.0], [7.0, 17.0, 27.0, 37.0, 47.0, 57.0, 67.0, 77.0, 87.0, 97.0], [8.0, 18.0, 28.0, 38.0, 48.0, 58.0, 68.0, 78.0, 88.0, 98.0], [9.0, 19.0, 29.0, 39.0, 49.0, 59.0, 69.0, 79.0, 89.0, 99.0]]\n"
     ]
    }
   ],
   "source": [
    "# Q2\n",
    "\n",
    "state_space = np.zeros(shape=[10,10])\n",
    "state_space = [[10.0*i+j for i in range(0,10)] for j in range(0, 10)]\n",
    "print(state_space)"
   ]
  },
  {
   "cell_type": "code",
   "execution_count": 16,
   "metadata": {},
   "outputs": [],
   "source": [
    "\n",
    "action_set = [0, 1, 2, 3] # top, left, bottom, right\n",
    "discount_factor = 0.8\n",
    "reward = reward_1\n",
    "w = 0.1\n",
    "\n",
    "# Setting up transition probabilities\n",
    "def transition_probability(curr_state, next_state, action):\n",
    "    action_value = [-1, -10,1,10 ] # curr_state - next_state (based on state space)\n",
    "    col = int(curr_state/10)\n",
    "    row = int(curr_state%10)\n",
    "    unallowed = [] # unallowed directions for a given state\n",
    "    if row==0:\n",
    "        unallowed.append(0) # top\n",
    "    elif row==9:\n",
    "        unallowed.append(2) # bottom\n",
    "    if col==0:\n",
    "        unallowed.append(1) # left\n",
    "    elif col==9:\n",
    "        unallowed.append(3) # right\n",
    "    \n",
    "    value = action_value[action]\n",
    "    neighborhood = []\n",
    "    for index in np.arange(0,4): # building neighborhood of the current state\n",
    "        if index not in unallowed:\n",
    "            neighborhood.append(curr_state + action_value[index])\n",
    "    if unallowed: # not empty => edges or corners\n",
    "        if len(unallowed)==2: # corners\n",
    "            if action in unallowed: # action to move off the grid\n",
    "                if next_state==curr_state: # => same_state\n",
    "                    return 1-w+w/4+w/4\n",
    "                elif next_state in neighborhood: # neighboring valid states\n",
    "                    return w/4\n",
    "            else: # action to stay in the grid\n",
    "                if next_state==curr_state: # => same_state\n",
    "                    return w/4+w/4\n",
    "                elif next_state==curr_state+value and next_state in neighborhood: # intended state\n",
    "                    return 1-w+w/4\n",
    "                elif next_state in neighborhood: # neighboring valid states\n",
    "                    return w/4      \n",
    "        else: # edges\n",
    "            if action in unallowed: # action to move off the grid\n",
    "                if next_state==curr_state: # => same_state\n",
    "                    return 1-w+w/4\n",
    "                elif next_state in neighborhood: # neighboring valid states\n",
    "                    return w/4\n",
    "            else: # action to stay in the grid\n",
    "                if next_state==curr_state: # => same_state\n",
    "                    return w/4\n",
    "                elif next_state==curr_state+value and next_state in neighborhood: # intended state\n",
    "                    return 1-w+w/4\n",
    "                elif next_state in neighborhood: # neighboring valid states\n",
    "                    return w/4\n",
    "            \n",
    "    else: # non boundary\n",
    "        if next_state==curr_state + value and next_state in neighborhood:\n",
    "            return 1-w+w/4\n",
    "        elif next_state in neighborhood:\n",
    "            return w/4\n",
    "    return 0\n"
   ]
  },
  {
   "cell_type": "code",
   "execution_count": 17,
   "metadata": {},
   "outputs": [],
   "source": [
    "def construct_neighborhood(curr_state):\n",
    "    col = int(curr_state/10)\n",
    "    row = int(curr_state%10)\n",
    "    action_value = [-1, -10, 1, 10] # curr_state - next_state (based on state space)\n",
    "    unallowed = [] # unallowed directions for a given state\n",
    "    if row==0:\n",
    "        unallowed.append(0) # top\n",
    "    elif row==9:\n",
    "        unallowed.append(2) # bottom\n",
    "    if col==0:\n",
    "        unallowed.append(1) # left\n",
    "    elif col==9:\n",
    "        unallowed.append(3) # right\n",
    "    \n",
    "    neighborhood = []\n",
    "    for index in np.arange(0,4): # building neighborhood of the current state\n",
    "        if index not in unallowed:\n",
    "            neighborhood.append(curr_state + action_value[index])\n",
    "    return neighborhood"
   ]
  },
  {
   "cell_type": "code",
   "execution_count": 18,
   "metadata": {},
   "outputs": [],
   "source": [
    "def value_iteration_value(reward, state_space, action_set, discount_factor):\n",
    "    epsilon = 0.01\n",
    "    V = np.zeros(shape=[10,10])\n",
    "    delta = float(\"inf\")\n",
    "    flatten_state = []\n",
    "    for element in state_space:\n",
    "        for el in element:\n",
    "            flatten_state.append(el)\n",
    "            \n",
    "    maximum = -1*float(\"inf\")\n",
    "    while delta > epsilon:\n",
    "        delta = 0 \n",
    "        temp=np.zeros([10,10])\n",
    "        for curr_state in flatten_state:\n",
    "            curr_col = int(curr_state/10)\n",
    "            curr_row = int(curr_state%10)\n",
    "            v = V[curr_row][curr_col]\n",
    "            neighborhood = construct_neighborhood(curr_state)\n",
    "            states_to_visit = neighborhood + [curr_state]\n",
    "            maximum = -1*float(\"inf\")\n",
    "            for action in action_set:\n",
    "                total = 0\n",
    "                for next_state in states_to_visit:\n",
    "                    p = transition_probability(curr_state, next_state, action)\n",
    "                    next_col = int(next_state/10)\n",
    "                    next_row = int(next_state%10)\n",
    "                    total += p * (reward[next_row, next_col] + discount_factor * V[next_row][next_col])\n",
    "#                     if curr_row==9 and curr_col==9:\n",
    "#                         print next_state, next_row, next_col\n",
    "#                         print action, next_state, p, reward[next_row, next_col], V[next_row][next_col] \n",
    "                if total>maximum:\n",
    "                    maximum = total\n",
    "            temp[curr_row][curr_col] = maximum\n",
    "            delta = max(delta, np.abs(v - temp[curr_row][curr_col]))\n",
    "        V=temp\n",
    "            \n",
    "#             if curr_row==9 and curr_col==9:\n",
    "#                 print (\"currrow, currcol, max: \", curr_row, curr_col, maximum)\n",
    "#             print (\"currrow, currcol, max: \", curr_row, curr_col, maximum)\n",
    "            \n",
    "    return V\n",
    "                    \n",
    "                "
   ]
  },
  {
   "cell_type": "code",
   "execution_count": 19,
   "metadata": {},
   "outputs": [
    {
     "name": "stdout",
     "output_type": "stream",
     "text": [
      "[[0.0442397  0.06457398 0.09118409 0.12504106 0.16807826 0.22269335\n",
      "  0.29198796 0.37988042 0.49134892 0.61001145]\n",
      " [0.06457398 0.08833385 0.12185345 0.16476116 0.21945345 0.28917752\n",
      "  0.37804302 0.49122817 0.63338372 0.78751905]\n",
      " [0.09118409 0.12185345 0.16458987 0.21930412 0.28906986 0.3779887\n",
      "  0.49131731 0.63565109 0.81751608 1.01875794]\n",
      " [0.12504106 0.16476116 0.21930412 0.28906536 0.37798653 0.49132035\n",
      "  0.63576137 0.81977022 1.05235181 1.31521922]\n",
      " [0.16807826 0.21945345 0.28906986 0.37798653 0.49132036 0.63576402\n",
      "  0.81985582 1.05442573 1.35173221 1.69523349]\n",
      " [0.22269335 0.28917752 0.3779887  0.49132035 0.63576402 0.81985701\n",
      "  1.05448231 1.35348475 1.73334073 2.18239181]\n",
      " [0.29198796 0.37804302 0.49131731 0.63576137 0.81985582 1.05448231\n",
      "  1.3535115  1.73462151 2.21968743 2.80696303]\n",
      " [0.37988042 0.49122817 0.63565109 0.81977022 1.05442573 1.35348475\n",
      "  1.73462151 2.22036214 2.83941767 3.60778693]\n",
      " [0.49134892 0.63338372 0.81751608 1.05235181 1.35173221 1.73334073\n",
      "  2.21968743 2.83941767 3.62897444 4.63470773]\n",
      " [0.61001145 0.78751905 1.01875794 1.31521922 1.69523349 2.18239181\n",
      "  2.80696303 3.60778693 4.63470773 4.70170068]]\n"
     ]
    }
   ],
   "source": [
    "action_set = [0, 1, 2, 3] # top, left, bottom, right\n",
    "discount_factor = 0.8\n",
    "reward = reward_1\n",
    "w = 0.1\n",
    "V = value_iteration_value(reward, state_space, action_set, discount_factor)\n",
    "print(V)"
   ]
  },
  {
   "cell_type": "code",
   "execution_count": 20,
   "metadata": {},
   "outputs": [
    {
     "data": {
      "image/png": "[encoded data removed]",
      "text/plain": [
       "<Figure size 432x288 with 2 Axes>"
      ]
     },
     "metadata": {},
     "output_type": "display_data"
    }
   ],
   "source": [
    "# Q3\n",
    "# plt.pcolor(V)\n",
    "# plt.colorbar();\n",
    "plt.clf()\n",
    "ax = sns.heatmap(V, annot=True)\n",
    "plt.show()"
   ]
  },
  {
   "cell_type": "code",
   "execution_count": 21,
   "metadata": {},
   "outputs": [],
   "source": [
    "def value_iteration_action(reward, state_space, action_set, discount_factor):\n",
    "    epsilon = 0.01\n",
    "    V = np.zeros(shape=[10,10])\n",
    "    pi = np.zeros(shape=[10,10])\n",
    "    delta = float(\"inf\")\n",
    "    flatten_state = []\n",
    "    for element in state_space:\n",
    "        for el in element:\n",
    "            flatten_state.append(el)\n",
    "            \n",
    "    maximum = -1*float(\"inf\")\n",
    "    while delta > epsilon:\n",
    "        delta = 0\n",
    "        temp=np.zeros([10,10])\n",
    "        for curr_state in flatten_state:\n",
    "            curr_col = int(curr_state/10)\n",
    "            curr_row = int(curr_state%10)\n",
    "            v = V[curr_row][curr_col]\n",
    "            neighborhood = construct_neighborhood(curr_state)\n",
    "            states_to_visit = neighborhood + [curr_state]\n",
    "            maximum = -1*float(\"inf\")\n",
    "            for action in action_set:\n",
    "                total = 0\n",
    "                for next_state in states_to_visit:\n",
    "                    p = transition_probability(curr_state, next_state, action)\n",
    "                    next_col = int(next_state/10)\n",
    "                    next_row = int(next_state%10)\n",
    "                    total += p * (reward[next_row, next_col] + discount_factor * V[next_row][next_col])\n",
    "                if total>maximum:\n",
    "                    maximum = total\n",
    "            temp[curr_row][curr_col] = maximum\n",
    "            delta = max(delta, np.abs(v - temp[curr_row][curr_col]))\n",
    "        V=temp\n",
    "    maximum = -1*float(\"inf\")\n",
    "    for curr_state in flatten_state:\n",
    "        curr_col = int(curr_state/10)\n",
    "        curr_row = int(curr_state%10)\n",
    "        neighborhood = construct_neighborhood(curr_state)\n",
    "        states_to_visit = neighborhood + [curr_state]\n",
    "        maximum = -1*float(\"inf\")\n",
    "        for action in [0,1,3,2]: # or action set\n",
    "            total = 0\n",
    "            for next_state in states_to_visit:\n",
    "                p = transition_probability(curr_state, next_state, action)\n",
    "                next_col = int(next_state/10)\n",
    "                next_row = int(next_state%10)\n",
    "                total += p * ((reward[next_row, next_col]) + discount_factor * V[next_row][next_col])\n",
    "            if total>maximum:\n",
    "                maximum = total\n",
    "                max_index = action\n",
    "        pi[curr_row][curr_col] = max_index\n",
    "    return [pi, V]"
   ]
  },
  {
   "cell_type": "code",
   "execution_count": 22,
   "metadata": {},
   "outputs": [
    {
     "name": "stdout",
     "output_type": "stream",
     "text": [
      "[[0.0442397  0.06457398 0.09118409 0.12504106 0.16807826 0.22269335\n",
      "  0.29198796 0.37988042 0.49134892 0.61001145]\n",
      " [0.06457398 0.08833385 0.12185345 0.16476116 0.21945345 0.28917752\n",
      "  0.37804302 0.49122817 0.63338372 0.78751905]\n",
      " [0.09118409 0.12185345 0.16458987 0.21930412 0.28906986 0.3779887\n",
      "  0.49131731 0.63565109 0.81751608 1.01875794]\n",
      " [0.12504106 0.16476116 0.21930412 0.28906536 0.37798653 0.49132035\n",
      "  0.63576137 0.81977022 1.05235181 1.31521922]\n",
      " [0.16807826 0.21945345 0.28906986 0.37798653 0.49132036 0.63576402\n",
      "  0.81985582 1.05442573 1.35173221 1.69523349]\n",
      " [0.22269335 0.28917752 0.3779887  0.49132035 0.63576402 0.81985701\n",
      "  1.05448231 1.35348475 1.73334073 2.18239181]\n",
      " [0.29198796 0.37804302 0.49131731 0.63576137 0.81985582 1.05448231\n",
      "  1.3535115  1.73462151 2.21968743 2.80696303]\n",
      " [0.37988042 0.49122817 0.63565109 0.81977022 1.05442573 1.35348475\n",
      "  1.73462151 2.22036214 2.83941767 3.60778693]\n",
      " [0.49134892 0.63338372 0.81751608 1.05235181 1.35173221 1.73334073\n",
      "  2.21968743 2.83941767 3.62897444 4.63470773]\n",
      " [0.61001145 0.78751905 1.01875794 1.31521922 1.69523349 2.18239181\n",
      "  2.80696303 3.60778693 4.63470773 4.70170068]]\n",
      "[[3. 3. 3. 3. 3. 3. 3. 3. 2. 2.]\n",
      " [2. 3. 3. 3. 3. 3. 2. 2. 2. 2.]\n",
      " [2. 2. 3. 3. 3. 2. 2. 2. 2. 2.]\n",
      " [2. 2. 2. 3. 2. 2. 2. 2. 2. 2.]\n",
      " [2. 2. 2. 3. 3. 2. 2. 2. 2. 2.]\n",
      " [2. 2. 3. 3. 3. 2. 2. 2. 2. 2.]\n",
      " [2. 3. 3. 3. 3. 3. 3. 2. 2. 2.]\n",
      " [2. 3. 3. 3. 3. 3. 3. 3. 2. 2.]\n",
      " [3. 3. 3. 3. 3. 3. 3. 3. 3. 2.]\n",
      " [3. 3. 3. 3. 3. 3. 3. 3. 3. 3.]]\n"
     ]
    }
   ],
   "source": [
    "action_set = [0, 1, 2, 3] # top, left, bottom, right\n",
    "discount_factor = 0.8\n",
    "reward = reward_1\n",
    "w = 0.1\n",
    "[optimal_policy,V] = value_iteration_action(reward, state_space, action_set, discount_factor)\n",
    "print(V)\n",
    "print(optimal_policy)"
   ]
  },
  {
   "cell_type": "code",
   "execution_count": 23,
   "metadata": {},
   "outputs": [
    {
     "data": {
      "image/png": "[encoded data removed]",
      "text/plain": [
       "<Figure size 432x288 with 1 Axes>"
      ]
     },
     "metadata": {},
     "output_type": "display_data"
    }
   ],
   "source": [
    "# -*- coding=utf-8 -*-\n",
    "import sys\n",
    "arrows = [u'\\u2191', u'\\u2190',u'\\u2193',u'\\u2192']\n",
    "arrow_matrix = np.array(optimal_policy, dtype=object)\n",
    "# print arrows\n",
    "for i in range(0, 10):\n",
    "    for j in range(0, 10):\n",
    "        index = int(optimal_policy[i][j])\n",
    "        arrow_matrix[i][j] = arrows[index]\n",
    "plt.clf()\n",
    "ax = sns.heatmap(optimal_policy, annot=arrow_matrix, fmt='',cbar=False)\n",
    "plt.show()\n",
    "# char_arr = [u'→',u'←',u'↓',u'→']\n",
    "\n",
    "# for i in range(0, 10):\n",
    "#     for j in range(0, 10):\n",
    "#         index = int(optimal_policy[i][j])\n",
    "#         # output_matrix[i][j] = char_arr[index]\n",
    "#         if index==0:\n",
    "#             print '↑ ',\n",
    "#         elif index==1:\n",
    "#             print '← ',\n",
    "#         elif index==2:\n",
    "#             print '↓ ',\n",
    "#         else:\n",
    "#             print '→ ',\n",
    "#     print(\"\\n\")\n"
   ]
  },
  {
   "cell_type": "code",
   "execution_count": 24,
   "metadata": {},
   "outputs": [
    {
     "name": "stdout",
     "output_type": "stream",
     "text": [
      "[[ 6.46710402e-01  7.90798480e-01  8.20813046e-01  5.25100092e-01\n",
      "  -2.38647637e+00 -4.23692968e+00 -1.92337440e+00  1.12809691e+00\n",
      "   1.59116227e+00  2.03482701e+00]\n",
      " [ 8.27724228e-01  1.01773259e+00  1.06157960e+00 -1.87921677e+00\n",
      "  -6.75466905e+00 -8.68371372e+00 -6.37348342e+00 -1.29836115e+00\n",
      "   1.92477470e+00  2.60689337e+00]\n",
      " [ 1.06131226e+00  1.31300108e+00  1.44578824e+00 -1.63521080e+00\n",
      "  -6.75775652e+00 -1.39166346e+01 -9.65320172e+00 -5.51481504e+00\n",
      "  -1.34600438e-01  3.35547821e+00]\n",
      " [ 1.35778625e+00  1.68918212e+00  1.94390703e+00 -1.24321750e+00\n",
      "  -6.33921636e+00 -7.98277134e+00 -7.94729165e+00 -9.43445243e+00\n",
      "  -1.91815510e+00  4.38704487e+00]\n",
      " [ 1.73393379e+00  2.16807921e+00  2.58589509e+00 -7.36489716e-01\n",
      "  -5.84672738e+00 -3.25840283e+00 -3.24107127e+00 -7.43449847e+00\n",
      "   1.71515827e+00  9.15952421e+00]\n",
      " [ 2.21111919e+00  2.77755323e+00  3.41334536e+00 -3.81397000e-02\n",
      "  -5.11411173e+00 -5.53379765e-01 -4.87536492e-01 -2.98351453e+00\n",
      "   6.58269181e+00  1.53537569e+01]\n",
      " [ 2.81642901e+00  3.55296319e+00  4.47882378e+00  3.02435829e+00\n",
      "   2.48020939e+00  2.88015090e+00 -4.65522665e-01 -4.91054945e+00\n",
      "   1.26884635e+01  2.32963889e+01]\n",
      " [ 3.58420160e+00  4.53918578e+00  5.79256872e+00  7.28842004e+00\n",
      "   6.71877276e+00  7.24110158e+00  9.30889950e-01  1.23664375e+01\n",
      "   2.11591651e+01  3.34825772e+01]\n",
      " [ 4.55796714e+00  5.79470476e+00  7.39720343e+00  9.43945467e+00\n",
      "   1.20082007e+01  1.28891834e+01  1.70973448e+01  2.30139700e+01\n",
      "   3.37782513e+01  4.65287906e+01]\n",
      " [ 5.72663251e+00  7.31607876e+00  9.38759574e+00  1.20446873e+01\n",
      "   1.54523553e+01  1.98239741e+01  2.54975058e+01  3.61575942e+01\n",
      "   4.65833827e+01  4.73114711e+01]]\n"
     ]
    },
    {
     "data": {
      "image/png": "[encoded data removed]",
      "text/plain": [
       "<Figure size 432x288 with 2 Axes>"
      ]
     },
     "metadata": {},
     "output_type": "display_data"
    }
   ],
   "source": [
    "# Q6, Q7\n",
    "\n",
    "action_set = [0, 1, 2, 3] # top, left, bottom, right\n",
    "discount_factor = 0.8\n",
    "reward = reward_2\n",
    "w = 0.1\n",
    "V = value_iteration_value(reward, state_space, action_set, discount_factor)\n",
    "print(V) # action, next_state, p, reward[next_row, next_col], V[next_row][next_col] \n",
    "ax = sns.heatmap(V, annot=True)"
   ]
  },
  {
   "cell_type": "code",
   "execution_count": 25,
   "metadata": {},
   "outputs": [
    {
     "name": "stdout",
     "output_type": "stream",
     "text": [
      "[[2. 2. 2. 1. 1. 3. 3. 3. 3. 2.]\n",
      " [2. 2. 2. 1. 1. 0. 3. 3. 3. 2.]\n",
      " [2. 2. 2. 1. 1. 2. 3. 3. 3. 2.]\n",
      " [2. 2. 2. 1. 1. 2. 2. 0. 3. 2.]\n",
      " [2. 2. 2. 1. 1. 2. 2. 2. 3. 2.]\n",
      " [2. 2. 2. 1. 1. 2. 2. 1. 3. 2.]\n",
      " [2. 2. 2. 2. 2. 2. 1. 1. 3. 2.]\n",
      " [2. 2. 2. 2. 2. 2. 1. 2. 2. 2.]\n",
      " [3. 3. 3. 2. 2. 2. 2. 2. 2. 2.]\n",
      " [3. 3. 3. 3. 3. 3. 3. 3. 3. 3.]]\n"
     ]
    },
    {
     "data": {
      "image/png": "[encoded data removed]",
      "text/plain": [
       "<Figure size 432x288 with 1 Axes>"
      ]
     },
     "metadata": {},
     "output_type": "display_data"
    }
   ],
   "source": [
    "# Q9\n",
    "\n",
    "action_set = [0, 1, 2, 3] # top, left, bottom, right\n",
    "discount_factor = 0.8\n",
    "reward = reward_2\n",
    "w = 0.1\n",
    "[optimal_policy,V] = value_iteration_action(reward, state_space, action_set, discount_factor)\n",
    "print(optimal_policy)\n",
    "\n",
    "for i in range(0, 10):\n",
    "    for j in range(0, 10):\n",
    "        index = int(optimal_policy[i][j])\n",
    "        arrow_matrix[i][j] = arrows[index]\n",
    "        \n",
    "plt.clf()\n",
    "ax = sns.heatmap(optimal_policy, annot=arrow_matrix, fmt='',cbar=False)\n",
    "plt.show()\n",
    "\n",
    "# -*- coding=utf-8 -*-\n",
    "# output_matrix = strs = [[\"\" for i in range(10)]for j in range(10)]\n",
    "# for i in range(0, 10):\n",
    "#     for j in range(0, 10):\n",
    "#         index = int(optimal_policy[i][j])\n",
    "#         if index==0:\n",
    "#             print '↑ ',\n",
    "#         elif index==1:\n",
    "#             print '← ',\n",
    "#         elif index==2:\n",
    "#             print '↓ ',\n",
    "#         else:\n",
    "#             print '→ ',\n",
    "#     print(\"\\n\")\n"
   ]
  },
  {
   "cell_type": "code",
   "execution_count": 29,
   "metadata": {},
   "outputs": [
    {
     "name": "stdout",
     "output_type": "stream",
     "text": [
      "Heat map of Optimal State Values for Reward Function 2\n"
     ]
    },
    {
     "ename": "NameError",
     "evalue": "name 'max_reward' is not defined",
     "output_type": "error",
     "traceback": [
      "\u001b[1;31m---------------------------------------------------------------------------\u001b[0m",
      "\u001b[1;31mNameError\u001b[0m                                 Traceback (most recent call last)",
      "\u001b[1;32m<ipython-input-29-031e58aaa3b3>\u001b[0m in \u001b[0;36m<module>\u001b[1;34m()\u001b[0m\n\u001b[0;32m     12\u001b[0m \u001b[0mplt\u001b[0m\u001b[1;33m.\u001b[0m\u001b[0msubplot\u001b[0m\u001b[1;33m(\u001b[0m\u001b[1;36m1\u001b[0m\u001b[1;33m,\u001b[0m\u001b[1;36m2\u001b[0m\u001b[1;33m,\u001b[0m\u001b[1;36m2\u001b[0m\u001b[1;33m)\u001b[0m\u001b[1;33m\u001b[0m\u001b[0m\n\u001b[0;32m     13\u001b[0m \u001b[0mplt\u001b[0m\u001b[1;33m.\u001b[0m\u001b[0mtitle\u001b[0m\u001b[1;33m(\u001b[0m\u001b[1;34m\"Extracted\"\u001b[0m\u001b[1;33m)\u001b[0m\u001b[1;33m\u001b[0m\u001b[0m\n\u001b[1;32m---> 14\u001b[1;33m \u001b[0moptimal_state_values_extracted_r2\u001b[0m \u001b[1;33m=\u001b[0m \u001b[0mvalue_iteration_value\u001b[0m\u001b[1;33m(\u001b[0m\u001b[0mmax_reward\u001b[0m\u001b[1;33m,\u001b[0m \u001b[0mstate_space\u001b[0m\u001b[1;33m,\u001b[0m \u001b[0maction_set\u001b[0m\u001b[1;33m,\u001b[0m \u001b[0mdiscount_factor\u001b[0m\u001b[1;33m)\u001b[0m\u001b[1;33m\u001b[0m\u001b[0m\n\u001b[0m\u001b[0;32m     15\u001b[0m \u001b[0mplt\u001b[0m\u001b[1;33m.\u001b[0m\u001b[0mpcolor\u001b[0m\u001b[1;33m(\u001b[0m\u001b[0mnp\u001b[0m\u001b[1;33m.\u001b[0m\u001b[0mflipud\u001b[0m\u001b[1;33m(\u001b[0m\u001b[0moptimal_state_values_extracted_r2\u001b[0m\u001b[1;33m)\u001b[0m\u001b[1;33m,\u001b[0m \u001b[0medgecolors\u001b[0m \u001b[1;33m=\u001b[0m \u001b[1;34m'white'\u001b[0m\u001b[1;33m,\u001b[0m \u001b[0mcmap\u001b[0m \u001b[1;33m=\u001b[0m \u001b[1;34m'hot'\u001b[0m\u001b[1;33m)\u001b[0m\u001b[1;33m\u001b[0m\u001b[0m\n\u001b[0;32m     16\u001b[0m \u001b[0mplt\u001b[0m\u001b[1;33m.\u001b[0m\u001b[0mcolorbar\u001b[0m\u001b[1;33m(\u001b[0m\u001b[1;33m)\u001b[0m\u001b[1;33m\u001b[0m\u001b[0m\n",
      "\u001b[1;31mNameError\u001b[0m: name 'max_reward' is not defined"
     ]
    },
    {
     "data": {
      "image/png": "[encoded data removed]",
      "text/plain": [
       "<Figure size 1080x360 with 3 Axes>"
      ]
     },
     "metadata": {},
     "output_type": "display_data"
    }
   ],
   "source": [
    "print(\"Heat map of Optimal State Values for Reward Function 2\")\n",
    "\n",
    "fig = plt.figure(figsize=(15, 5))\n",
    "axes = fig.subplots(nrows=1, ncols=2)\n",
    "\n",
    "plt.subplot(1,2,1)\n",
    "plt.title(\"Ground Truth\")\n",
    "plt.pcolor(np.flipud(V), edgecolors = 'white', cmap = 'hot')\n",
    "plt.colorbar()\n",
    "\n",
    "\n",
    "plt.subplot(1,2,2)\n",
    "plt.title(\"Extracted\")\n",
    "optimal_state_values_extracted_r2 = value_iteration_value(max_reward, state_space, action_set, discount_factor)\n",
    "plt.pcolor(np.flipud(optimal_state_values_extracted_r2), edgecolors = 'white', cmap = 'hot')\n",
    "plt.colorbar()\n",
    "plt.show()"
   ]
  },
  {
   "cell_type": "code",
   "execution_count": null,
   "metadata": {},
   "outputs": [],
   "source": []
  }
 ],
 "metadata": {
  "kernelspec": {
   "display_name": "Python 3",
   "language": "python",
   "name": "python3"
  },
  "language_info": {
   "codemirror_mode": {
    "name": "ipython",
    "version": 3
   },
   "file_extension": ".py",
   "mimetype": "text/x-python",
   "name": "python",
   "nbconvert_exporter": "python",
   "pygments_lexer": "ipython3",
   "version": "3.5.5"
  }
 },
 "nbformat": 4,
 "nbformat_minor": 2
}
