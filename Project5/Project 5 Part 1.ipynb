{
 "cells": [
  {
   "cell_type": "code",
   "execution_count": 171,
   "metadata": {},
   "outputs": [],
   "source": [
    "import os\n",
    "import itertools\n",
    "import numpy as np\n",
    "import pandas as pd"
   ]
  },
  {
   "cell_type": "code",
   "execution_count": 172,
   "metadata": {},
   "outputs": [],
   "source": [
    "cnt = 0\n",
    "result = None\n",
    "for file_name in os.listdir('./finance_data/data'):\n",
    "    if file_name.endswith('.csv'):\n",
    "        stock_df = pd.read_csv('./finance_data/data/'+file_name)\n",
    "        if len(stock_df)==765:\n",
    "            name = file_name.split('.csv')[0]\n",
    "            reqd_df = pd.DataFrame({'Date': stock_df.Date, name : np.log(1 + stock_df.Close.pct_change())})\n",
    "            reqd_df = reqd_df.drop(0)\n",
    "            reqd_df['Date'] = pd.to_datetime(reqd_df['Date'])\n",
    "            if cnt==0:\n",
    "                result = reqd_df\n",
    "                cnt+=1\n",
    "            else:\n",
    "                temp = result\n",
    "                result = pd.merge(result, reqd_df, on='Date')\n",
    "                if len(result)!=len(reqd_df):\n",
    "                    result = temp\n",
    "                else:\n",
    "                    cnt+=1"
   ]
  },
  {
   "cell_type": "code",
   "execution_count": 173,
   "metadata": {},
   "outputs": [],
   "source": [
    "def correlation(col_1, col_2):\n",
    "    col_1 = col_1.values\n",
    "    col_2 = col_2.values\n",
    "    num = np.mean(col_1 * col_2) - (np.mean(col_1) * np.mean(col_2))\n",
    "    deno_1 = np.mean(np.power(col_1,2)) - np.power(np.mean(col_1),2)\n",
    "    deno_2 = np.mean(np.power(col_2,2)) - np.power(np.mean(col_2),2)\n",
    "    deno = np.sqrt(deno_1 * deno_2)\n",
    "    return num/deno"
   ]
  },
  {
   "cell_type": "code",
   "execution_count": 174,
   "metadata": {},
   "outputs": [],
   "source": [
    "result = result.drop('Date',axis=1)\n",
    "# result.columns = np.arange(1, len(result.columns)+1)\n",
    "alt_columns = np.arange(1, len(result.columns)+1)\n",
    "rho_matrix = np.zeros(shape=[cnt,cnt]) # only use upper triangular matrix\n",
    "column_perm = list(itertools.combinations(result.columns, 2))\n",
    "alt_column_perm = list(itertools.combinations(alt_columns, 2))\n",
    "edge_dict = {'Stock 1':[], 'Stock 2':[], 'Edge Weight':[]}\n",
    "for index, col in enumerate(column_perm):\n",
    "    edge_dict['Stock 1'].append(col[0])\n",
    "#     edge_dict['Stock 1'].append(alt_column_perm[index][0])\n",
    "    edge_dict['Stock 2'].append(col[1])\n",
    "#     edge_dict['Stock 2'].append(alt_column_perm[index][1])\n",
    "    corr = np.sqrt(2 * (1 - correlation(result[col[0]], result[col[1]])))\n",
    "    edge_dict['Edge Weight'].append(corr)\n",
    "#     rho_matrix[int(col[0])-1, int(col[1])-1] = corr\n",
    "    "
   ]
  },
  {
   "cell_type": "code",
   "execution_count": 175,
   "metadata": {},
   "outputs": [],
   "source": [
    "edge_file = pd.DataFrame(edge_dict)\n",
    "cols = edge_file.columns.tolist()\n",
    "cols = ['Stock 1', 'Stock 2', 'Edge Weight']\n",
    "edge_file = edge_file[cols]"
   ]
  },
  {
   "cell_type": "code",
   "execution_count": 176,
   "metadata": {},
   "outputs": [
    {
     "data": {
      "text/html": [
       "<div>\n",
       "<style scoped>\n",
       "    .dataframe tbody tr th:only-of-type {\n",
       "        vertical-align: middle;\n",
       "    }\n",
       "\n",
       "    .dataframe tbody tr th {\n",
       "        vertical-align: top;\n",
       "    }\n",
       "\n",
       "    .dataframe thead th {\n",
       "        text-align: right;\n",
       "    }\n",
       "</style>\n",
       "<table border=\"1\" class=\"dataframe\">\n",
       "  <thead>\n",
       "    <tr style=\"text-align: right;\">\n",
       "      <th></th>\n",
       "      <th>Stock 1</th>\n",
       "      <th>Stock 2</th>\n",
       "      <th>Edge Weight</th>\n",
       "    </tr>\n",
       "  </thead>\n",
       "  <tbody>\n",
       "    <tr>\n",
       "      <th>0</th>\n",
       "      <td>A</td>\n",
       "      <td>AAL</td>\n",
       "      <td>1.189554</td>\n",
       "    </tr>\n",
       "    <tr>\n",
       "      <th>1</th>\n",
       "      <td>A</td>\n",
       "      <td>AAP</td>\n",
       "      <td>1.269710</td>\n",
       "    </tr>\n",
       "    <tr>\n",
       "      <th>2</th>\n",
       "      <td>A</td>\n",
       "      <td>AAPL</td>\n",
       "      <td>1.373192</td>\n",
       "    </tr>\n",
       "    <tr>\n",
       "      <th>3</th>\n",
       "      <td>A</td>\n",
       "      <td>ABBV</td>\n",
       "      <td>1.129386</td>\n",
       "    </tr>\n",
       "    <tr>\n",
       "      <th>4</th>\n",
       "      <td>A</td>\n",
       "      <td>ABC</td>\n",
       "      <td>1.248807</td>\n",
       "    </tr>\n",
       "  </tbody>\n",
       "</table>\n",
       "</div>"
      ],
      "text/plain": [
       "  Stock 1 Stock 2  Edge Weight\n",
       "0       A     AAL     1.189554\n",
       "1       A     AAP     1.269710\n",
       "2       A    AAPL     1.373192\n",
       "3       A    ABBV     1.129386\n",
       "4       A     ABC     1.248807"
      ]
     },
     "execution_count": 176,
     "metadata": {},
     "output_type": "execute_result"
    }
   ],
   "source": [
    "edge_file.head()"
   ]
  },
  {
   "cell_type": "code",
   "execution_count": 177,
   "metadata": {},
   "outputs": [],
   "source": [
    "edge_file.to_csv('Graph.txt', header=None, index=None, sep=' ', mode='w')"
   ]
  },
  {
   "cell_type": "code",
   "execution_count": 190,
   "metadata": {},
   "outputs": [
    {
     "data": {
      "image/png": "[encoded data removed]",
      "text/plain": [
       "<Figure size 432x288 with 1 Axes>"
      ]
     },
     "metadata": {},
     "output_type": "display_data"
    }
   ],
   "source": [
    "# Q2 A histogram showing the un-normalized distribution of edge weights.\n",
    "import matplotlib.pyplot as plt\n",
    "plt.hist(edge_dict['Edge Weight'])\n",
    "plt.title('Histogram of Edge Weights')\n",
    "plt.show()"
   ]
  },
  {
   "cell_type": "code",
   "execution_count": null,
   "metadata": {},
   "outputs": [],
   "source": []
  }
 ],
 "metadata": {
  "kernelspec": {
   "display_name": "Python 2",
   "language": "python",
   "name": "python2"
  },
  "language_info": {
   "codemirror_mode": {
    "name": "ipython",
    "version": 2
   },
   "file_extension": ".py",
   "mimetype": "text/x-python",
   "name": "python",
   "nbconvert_exporter": "python",
   "pygments_lexer": "ipython2",
   "version": "2.7.14"
  }
 },
 "nbformat": 4,
 "nbformat_minor": 2
}
