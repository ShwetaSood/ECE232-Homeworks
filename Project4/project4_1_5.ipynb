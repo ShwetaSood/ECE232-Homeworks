{
 "cells": [
  {
   "cell_type": "code",
   "execution_count": 1,
   "metadata": {},
   "outputs": [
    {
     "name": "stderr",
     "output_type": "stream",
     "text": [
      "\n",
      "Attaching package: 'igraph'\n",
      "\n",
      "The following objects are masked from 'package:stats':\n",
      "\n",
      "    decompose, spectrum\n",
      "\n",
      "The following object is masked from 'package:base':\n",
      "\n",
      "    union\n",
      "\n"
     ]
    }
   ],
   "source": [
    "library(igraph)"
   ]
  },
  {
   "cell_type": "code",
   "execution_count": 2,
   "metadata": {},
   "outputs": [],
   "source": [
    "g=read_graph(\"C:/Users/ashis/project4_data/edge_list.txt\",format = c(\"ncol\"),directed=TRUE)\n",
    "#plot.igraph(g)"
   ]
  },
  {
   "cell_type": "code",
   "execution_count": 105,
   "metadata": {},
   "outputs": [
    {
     "name": "stdout",
     "output_type": "stream",
     "text": [
      "[1] 1\n",
      "[1] 50\n"
     ]
    }
   ],
   "source": [
    "c='1'\n",
    "edge_id = get.edge.ids(g,c('0','1'),directed = TRUE)\n",
    "print(edge_id)\n",
    "wt=edge_attr(g, \"weight\", edge_id)\n",
    "print(wt)"
   ]
  },
  {
   "cell_type": "code",
   "execution_count": 9,
   "metadata": {},
   "outputs": [
    {
     "name": "stdout",
     "output_type": "stream",
     "text": [
      "[1] \"60359\"             \"0.102040816326531\"\n"
     ]
    }
   ],
   "source": [
    "nodeid='17281'\n",
    "neigh=V(g)$name[neighbors(g, nodeid, mode = \"out\")]\n",
    "max1=.Machine$integer.max*-1\n",
    "for(ff in neigh)\n",
    "{\n",
    "    edge_id = get.edge.ids(g,c(nodeid,ff),directed = TRUE)\n",
    "    wt=edge_attr(g, \"weight\", edge_id)\n",
    "    #print(ff)\n",
    "    if(wt>max1)\n",
    "    {\n",
    "        max1=wt\n",
    "        final=ff\n",
    "    }\n",
    "}\n",
    "print(c(final,max1))"
   ]
  },
  {
   "cell_type": "code",
   "execution_count": 3,
   "metadata": {},
   "outputs": [],
   "source": [
    "#q4\n",
    "rank_score<-page_rank(g, algo = c(\"prpack\", \"arpack\", \"power\"),directed = TRUE, damping = 0.85)"
   ]
  },
  {
   "cell_type": "code",
   "execution_count": 4,
   "metadata": {},
   "outputs": [
    {
     "ename": "ERROR",
     "evalue": "Error in eval(expr, envir, enclos): object 'actor_id_map' not found\n",
     "output_type": "error",
     "traceback": [
      "Error in eval(expr, envir, enclos): object 'actor_id_map' not found\nTraceback:\n"
     ]
    }
   ],
   "source": [
    "high_score<-sort(rank_score$vector,decreasing=TRUE)"
   ]
  },
  {
   "cell_type": "code",
   "execution_count": 8,
   "metadata": {},
   "outputs": [
    {
     "name": "stdout",
     "output_type": "stream",
     "text": [
      "       85725 \n",
      "0.0002351555 \n",
      "       65941 \n",
      "0.0001989744 \n",
      "       27638 \n",
      "0.0001972226 \n",
      "        6536 \n",
      "0.0001955078 \n",
      "       45410 \n",
      "0.0001727327 \n",
      "       32125 \n",
      "0.0001585876 \n",
      "       52779 \n",
      "0.0001573299 \n",
      "      40346 \n",
      "0.000156751 \n",
      "       18108 \n",
      "0.0001517898 \n",
      "       49646 \n",
      "0.0001469648 \n"
     ]
    }
   ],
   "source": [
    "for(i in 1:10)\n",
    "{\n",
    "  print(high_score[i])\n",
    "}"
   ]
  },
  {
   "cell_type": "code",
   "execution_count": 38,
   "metadata": {},
   "outputs": [
    {
     "name": "stdout",
     "output_type": "stream",
     "text": [
      "85725 65941 27638  6536 45410 32125 52779 40346 18108 49646 \n",
      " 7537  3954  6960  3316  6587  2905  5563  2662  2953  5502 \n"
     ]
    }
   ],
   "source": [
    "hh=as.numeric(V(g)[c(\"85725\",\"65941\",\"27638\",\"6536\",\"45410\",\"32125\",\"52779\",\"40346\",\"18108\",\"49646\")])\n",
    "print(degree(g,hh,\"in\"))"
   ]
  },
  {
   "cell_type": "code",
   "execution_count": 34,
   "metadata": {},
   "outputs": [
    {
     "name": "stdout",
     "output_type": "stream",
     "text": [
      " [1] \"14271\" \"88890\" \"76072\" \"50125\" \"41518\" \"51788\" \"58286\" \"60700\" \"1441\" \n",
      "[10] \"88820\"\n"
     ]
    }
   ],
   "source": [
    "indeg=c(85725,65941,27638,6536,45410,32125,52779,40346,18108,49646)\n",
    "ii=V(g)$name[indeg]\n",
    "print(ii)"
   ]
  },
  {
   "cell_type": "code",
   "execution_count": 35,
   "metadata": {},
   "outputs": [
    {
     "name": "stdout",
     "output_type": "stream",
     "text": [
      "69838 \n",
      " 1170 \n"
     ]
    }
   ],
   "source": [
    "\n",
    "\n",
    "hh=degree(g,14271,\"in\")\n",
    "print(hh)"
   ]
  },
  {
   "cell_type": "code",
   "execution_count": 41,
   "metadata": {},
   "outputs": [
    {
     "name": "stdout",
     "output_type": "stream",
     "text": [
      "       14499 \n",
      "3.975519e-05 \n",
      "      111289 \n",
      "1.748948e-05 \n",
      "       12808 \n",
      "4.003957e-05 \n",
      "       27253 \n",
      "5.106065e-05 \n",
      "       32384 \n",
      "4.202705e-05 \n",
      "       16874 \n",
      "5.382601e-05 \n",
      "       62768 \n",
      "3.202335e-05 \n",
      "      107823 \n",
      "3.961961e-05 \n",
      "       17281 \n",
      "3.168819e-05 \n",
      "      53243 \n",
      "4.29871e-05 \n"
     ]
    }
   ],
   "source": [
    "#Q5\n",
    "indeg_act=c(14499,111289,12808,27253,32384,16874,62768,107823,17281,53243)\n",
    "hh=as.numeric(V(g)[c(\"14499\",\"111289\",\"12808\",\"27253\",\"32384\",\"16874\",\"62768\",\"107823\",\"17281\",\"53243\")])\n",
    "for(g1 in hh)\n",
    "{\n",
    "    print(rank_score$vector[g1])\n",
    "}"
   ]
  },
  {
   "cell_type": "code",
   "execution_count": 40,
   "metadata": {},
   "outputs": [
    {
     "name": "stdout",
     "output_type": "stream",
     "text": [
      " 14499 111289  12808  27253  32384  16874  62768 107823  17281  53243 \n",
      "  1651    453   1573   2064   1357   2144   1319   1594   1301   1739 \n"
     ]
    }
   ],
   "source": [
    "hh=as.numeric(V(g)[c(\"14499\",\"111289\",\"12808\",\"27253\",\"32384\",\"16874\",\"62768\",\"107823\",\"17281\",\"53243\")])\n",
    "print(degree(g,hh,\"in\"))"
   ]
  },
  {
   "cell_type": "code",
   "execution_count": 26,
   "metadata": {},
   "outputs": [
    {
     "name": "stdout",
     "output_type": "stream",
     "text": [
      "       85725 \n",
      "0.0002351555 \n"
     ]
    }
   ],
   "source": [
    "yy=high_score[1]\n",
    "print(yy)\n",
    "if(grepl(85725,yy))\n",
    "    print(yy)"
   ]
  },
  {
   "cell_type": "code",
   "execution_count": null,
   "metadata": {},
   "outputs": [],
   "source": [
    "page_rank = g.pagerank(vertices=None, directed=True)\n",
    "In [10]:\n",
    "sorted_pr = sorted(range(len(page_rank)), key=lambda k: page_rank[k], reverse=True)\n",
    "In [11]:\n",
    "for actor in g.vs[sorted_pr[0:10]][\"name\"]:\n",
    "    print actor, len(A2M[actor]), page_rank[g.vs.find(actor).index]"
   ]
  },
  {
   "cell_type": "code",
   "execution_count": null,
   "metadata": {},
   "outputs": [],
   "source": [
    "library(igraph)\n",
    "library(data.table)\n",
    "edgesFile <- \"./project_2_data/edge_list.txt\"\n",
    "edges <- fread(edgesFile,header=F)\n",
    "vertices <- fread(\"./project_2_data/actor_actress_list.txt\",header = F, sep = \"\\n\")\n",
    "vertices$name = vertices$V1\n",
    "myvertices <- vertices[!duplicated(vertices), ]\n",
    "network.actor <- graph.data.frame(edges, directed=TRUE, vertices = myvertices)\n",
    "pagerank = page.rank(network.actor, directed = TRUE, damping = 0.85)\n",
    "sorted.page.rank = sort(pagerank$vector, decreasing = TRUE, index.return = TRUE)\n",
    "\n",
    "sorted.page.rank$x[1:10]\n",
    "write.table(sorted.page.rank$x, \"./project_2_data/pagerank.txt\", sep=\"\\t\", quote = F, col.names = F)\n",
    "\n"
   ]
  },
  {
   "cell_type": "code",
   "execution_count": null,
   "metadata": {},
   "outputs": [],
   "source": []
  }
 ],
 "metadata": {
  "kernelspec": {
   "display_name": "R",
   "language": "R",
   "name": "ir"
  },
  "language_info": {
   "codemirror_mode": "r",
   "file_extension": ".r",
   "mimetype": "text/x-r-source",
   "name": "R",
   "pygments_lexer": "r",
   "version": "3.4.3"
  }
 },
 "nbformat": 4,
 "nbformat_minor": 2
}
