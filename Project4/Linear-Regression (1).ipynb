{
 "cells": [
  {
   "cell_type": "markdown",
   "metadata": {},
   "source": [
    "# Linear Regression to Movie Prediction"
   ]
  },
  {
   "cell_type": "code",
   "execution_count": 1,
   "metadata": {},
   "outputs": [
    {
     "name": "stderr",
     "output_type": "stream",
     "text": [
      "C:\\Users\\karan\\Anaconda3\\envs\\tensorflow\\lib\\site-packages\\h5py\\__init__.py:36: FutureWarning: Conversion of the second argument of issubdtype from `float` to `np.floating` is deprecated. In future, it will be treated as `np.float64 == np.dtype(float).type`.\n",
      "  from ._conv import register_converters as _register_converters\n"
     ]
    }
   ],
   "source": [
    "import tensorflow as tf\n",
    "sess = tf.Session(config=tf.ConfigProto(log_device_placement=True,allow_soft_placement=True))"
   ]
  },
  {
   "cell_type": "code",
   "execution_count": 2,
   "metadata": {},
   "outputs": [],
   "source": [
    "import pandas as pd\n",
    "import numpy as np"
   ]
  },
  {
   "cell_type": "code",
   "execution_count": 4,
   "metadata": {},
   "outputs": [
    {
     "name": "stderr",
     "output_type": "stream",
     "text": [
      "C:\\Users\\karan\\Anaconda3\\envs\\tensorflow\\lib\\site-packages\\ipykernel_launcher.py:1: ParserWarning: Falling back to the 'python' engine because the 'c' engine does not support regex separators (separators > 1 char and different from '\\s+' are interpreted as regex); you can avoid this warning by specifying engine='python'.\n",
      "  \"\"\"Entry point for launching an IPython kernel.\n"
     ]
    }
   ],
   "source": [
    "data = pd.read_csv('movie_rating.txt', sep=\"\\t\\t\", header=None)"
   ]
  },
  {
   "cell_type": "code",
   "execution_count": 5,
   "metadata": {},
   "outputs": [],
   "source": [
    "movie_to_rating = {}\n",
    "movie_to_index = {}\n",
    "for i in range(1,len(data)):\n",
    "    movie = data.iloc[i][0]\n",
    "    rating = data.iloc[i][1]\n",
    "    movie_to_rating[movie]=rating\n",
    "    movie_to_index[movie]=i"
   ]
  },
  {
   "cell_type": "code",
   "execution_count": 6,
   "metadata": {},
   "outputs": [],
   "source": [
    "myfile = open(\"actor_movies.txt\",\"r\")\n",
    "\n",
    "data = myfile.readlines()"
   ]
  },
  {
   "cell_type": "code",
   "execution_count": 7,
   "metadata": {},
   "outputs": [
    {
     "name": "stdout",
     "output_type": "stream",
     "text": [
      "1\n",
      "2\n",
      "3\n",
      "4\n"
     ]
    }
   ],
   "source": [
    "k=2015\n",
    "str1 = data[k].split('\\t\\t')[len(data[k].split('\\t\\t'))-1].replace('  \\n','')\n",
    "str2 = str1.replace('\\n','')\n",
    "str2\n",
    "\n",
    "for i in range(1,5):\n",
    "    print(i)"
   ]
  },
  {
   "cell_type": "code",
   "execution_count": 8,
   "metadata": {},
   "outputs": [],
   "source": [
    "actor_rating_sum = {}\n",
    "actor_rating_count = {}\n",
    "\n",
    "for i in data :\n",
    "    row = i.split('\\t\\t')\n",
    "    actor = row[0]\n",
    "    row[len(row)-1]= row[len(row)-1].replace('  \\n','')\n",
    "    row[len(row)-1]= row[len(row)-1].replace('\\n','')\n",
    "    \n",
    "    for j in range(1,len(row)):\n",
    "        if(row[j] in movie_to_rating)==False :\n",
    "            continue\n",
    "            \n",
    "        if actor in actor_rating_sum:\n",
    "            actor_rating_sum[actor]=actor_rating_sum[actor]+movie_to_rating[row[j]]\n",
    "            actor_rating_count[actor]=actor_rating_count[actor] + 1\n",
    "        \n",
    "        else : \n",
    "            actor_rating_sum[actor]=movie_to_rating[row[j]]\n",
    "            actor_rating_count[actor]= 1\n",
    "        \n",
    "actor_rating_average={} \n",
    "\n",
    "for i in actor_rating_count:\n",
    "    actor_rating_average[i]=actor_rating_sum[i]/actor_rating_count[i]\n",
    "    "
   ]
  },
  {
   "cell_type": "code",
   "execution_count": 9,
   "metadata": {},
   "outputs": [
    {
     "data": {
      "text/plain": [
       "799938"
      ]
     },
     "execution_count": 9,
     "metadata": {},
     "output_type": "execute_result"
    }
   ],
   "source": [
    "len(actor_rating_average)"
   ]
  },
  {
   "cell_type": "code",
   "execution_count": 10,
   "metadata": {},
   "outputs": [],
   "source": [
    "myfile = open(\"actress_movies.txt\",\"r\")\n",
    "data = myfile.readlines()\n",
    "for i in data :\n",
    "    row = i.split('\\t\\t')\n",
    "    actor = row[0]\n",
    "    row[len(row)-1]= row[len(row)-1].replace('  \\n','')\n",
    "    row[len(row)-1]= row[len(row)-1].replace('\\n','')\n",
    "    \n",
    "    for j in range(1,len(row)):\n",
    "        if(row[j] in movie_to_rating)==False :\n",
    "            continue\n",
    "            \n",
    "        if actor in actor_rating_sum:\n",
    "            actor_rating_sum[actor]=actor_rating_sum[actor]+movie_to_rating[row[j]]\n",
    "            actor_rating_count[actor]=actor_rating_count[actor] + 1\n",
    "        \n",
    "        else : \n",
    "            actor_rating_sum[actor]=movie_to_rating[row[j]]\n",
    "            actor_rating_count[actor]= 1\n",
    "        \n",
    "actor_rating_average={} \n",
    "\n",
    "for i in actor_rating_count:\n",
    "    actor_rating_average[i]=actor_rating_sum[i]/actor_rating_count[i]\n",
    "\n"
   ]
  },
  {
   "cell_type": "code",
   "execution_count": 11,
   "metadata": {},
   "outputs": [
    {
     "data": {
      "text/plain": [
       "1252143"
      ]
     },
     "execution_count": 11,
     "metadata": {},
     "output_type": "execute_result"
    }
   ],
   "source": [
    "len(actor_rating_average)\n"
   ]
  },
  {
   "cell_type": "code",
   "execution_count": 12,
   "metadata": {},
   "outputs": [],
   "source": [
    "myfile = open(\"actress_movies.txt\",\"r\")\n",
    "data = myfile.readlines()\n",
    "\n",
    "movies_predicted_rating = {}\n",
    "movies_predicted_count={}\n",
    "movies_predicted_average={}\n",
    "\n",
    "for i in data :\n",
    "    row = i.split('\\t\\t')\n",
    "    actor = row[0]\n",
    "    row[len(row)-1]= row[len(row)-1].replace('  \\n','')\n",
    "    row[len(row)-1]= row[len(row)-1].replace('\\n','')\n",
    "    if(actor in actor_rating_average)==False:\n",
    "        continue\n",
    "    \n",
    "    for j in range(1,len(row)):    \n",
    "        if row[j] in movies_predicted_rating:\n",
    "            movies_predicted_rating[row[j]]=movies_predicted_rating[row[j]]+actor_rating_average[actor]\n",
    "            movies_predicted_count[row[j]]=movies_predicted_count[row[j]]+1\n",
    "        \n",
    "        else : \n",
    "            movies_predicted_rating[row[j]]=actor_rating_average[actor]\n",
    "            movies_predicted_count[row[j]]=1\n",
    "\n",
    "        "
   ]
  },
  {
   "cell_type": "code",
   "execution_count": 52,
   "metadata": {},
   "outputs": [],
   "source": [
    "for k in actor_rating_average:\n",
    "    if 'Aldieri' in k:\n",
    "        if 'Ammar' in k :\n",
    "            print(k)"
   ]
  },
  {
   "cell_type": "code",
   "execution_count": 13,
   "metadata": {},
   "outputs": [],
   "source": [
    "for i in movies_predicted_rating:\n",
    "    movies_predicted_average[i] = movies_predicted_rating[i]/movies_predicted_count[i]\n",
    "\n"
   ]
  },
  {
   "cell_type": "markdown",
   "metadata": {},
   "source": [
    "# Question 13 Output"
   ]
  },
  {
   "cell_type": "code",
   "execution_count": 14,
   "metadata": {},
   "outputs": [
    {
     "name": "stdout",
     "output_type": "stream",
     "text": [
      "Minions (2015)  (voice)  \n",
      "Minions (2015)\n",
      "6.536666666666667\n"
     ]
    }
   ],
   "source": [
    "movies_predicted_average.items()\n",
    "summ=0\n",
    "count=0\n",
    "for k in movies_predicted_average:\n",
    "    if'Minions (2015)' in k:\n",
    "        print(k)\n",
    "        summ=summ+movies_predicted_rating[k]\n",
    "        count = count + movies_predicted_count[k]\n",
    "\n",
    "print(summ/count)"
   ]
  },
  {
   "cell_type": "code",
   "execution_count": 15,
   "metadata": {},
   "outputs": [
    {
     "data": {
      "text/plain": [
       "6.373333333333334"
      ]
     },
     "execution_count": 15,
     "metadata": {},
     "output_type": "execute_result"
    }
   ],
   "source": [
    "movies_predicted_average['Batman v Superman: Dawn of Justice (2016)  ']"
   ]
  },
  {
   "cell_type": "code",
   "execution_count": 16,
   "metadata": {},
   "outputs": [
    {
     "data": {
      "text/plain": [
       "7.24"
      ]
     },
     "execution_count": 16,
     "metadata": {},
     "output_type": "execute_result"
    }
   ],
   "source": [
    "movies_predicted_average['Mission: Impossible - Rogue Nation (2015)  (uncredited)  ']"
   ]
  },
  {
   "cell_type": "markdown",
   "metadata": {},
   "source": [
    "# Question 12 computation"
   ]
  },
  {
   "cell_type": "code",
   "execution_count": 18,
   "metadata": {},
   "outputs": [],
   "source": [
    "movies_actor_features = movies_predicted_average\n",
    "movies_director_features = {}\n",
    "\n",
    "#here actor is director\n",
    "actor_rating_sum = {}\n",
    "actor_rating_count = {}\n",
    "myfile = open(\"director_movies.txt\",\"r\")\n",
    "\n",
    "data = myfile.readlines()\n",
    "\n",
    "for i in data :\n",
    "    row = i.split('\\t\\t')\n",
    "    actor = row[0]\n",
    "    row[len(row)-1]= row[len(row)-1].replace('  \\n','')\n",
    "    row[len(row)-1]= row[len(row)-1].replace('\\n','')\n",
    "    \n",
    "    for j in range(1,len(row)):\n",
    "        if(row[j] in movie_to_rating)==False :\n",
    "            continue\n",
    "            \n",
    "        if actor in actor_rating_sum:\n",
    "            actor_rating_sum[actor]=actor_rating_sum[actor]+movie_to_rating[row[j]]\n",
    "            actor_rating_count[actor]=actor_rating_count[actor] + 1\n",
    "        \n",
    "        else : \n",
    "            actor_rating_sum[actor]=movie_to_rating[row[j]]\n",
    "            actor_rating_count[actor]= 1\n",
    "        \n",
    "actor_rating_average={} \n",
    "\n",
    "for i in actor_rating_count:\n",
    "    actor_rating_average[i]=actor_rating_sum[i]/actor_rating_count[i]\n",
    "\n",
    "\n"
   ]
  },
  {
   "cell_type": "code",
   "execution_count": 19,
   "metadata": {},
   "outputs": [],
   "source": [
    "myfile = open(\"director_movies.txt\",\"r\")\n",
    "data = myfile.readlines()\n",
    "\n",
    "movies_predicted_rating = {}\n",
    "movies_predicted_count={}\n",
    "movies_predicted_average={}\n",
    "\n",
    "for i in data :\n",
    "    row = i.split('\\t\\t')\n",
    "    actor = row[0]\n",
    "    row[len(row)-1]= row[len(row)-1].replace('  \\n','')\n",
    "    row[len(row)-1]= row[len(row)-1].replace('\\n','')\n",
    "    if(actor in actor_rating_average)==False:\n",
    "        continue\n",
    "    \n",
    "    for j in range(1,len(row)):    \n",
    "        if row[j] in movies_predicted_rating:\n",
    "            movies_predicted_rating[row[j]]=movies_predicted_rating[row[j]]+actor_rating_average[actor]\n",
    "            movies_predicted_count[row[j]]=movies_predicted_count[row[j]]+1\n",
    "        \n",
    "        else : \n",
    "            movies_predicted_rating[row[j]]=actor_rating_average[actor]\n",
    "            movies_predicted_count[row[j]]=1"
   ]
  },
  {
   "cell_type": "code",
   "execution_count": 20,
   "metadata": {},
   "outputs": [],
   "source": [
    "for i in movies_predicted_rating:\n",
    "    movies_predicted_average[i] = movies_predicted_rating[i]/movies_predicted_count[i]"
   ]
  },
  {
   "cell_type": "code",
   "execution_count": 21,
   "metadata": {},
   "outputs": [],
   "source": [
    "movies_director_feature = movies_predicted_average"
   ]
  },
  {
   "cell_type": "code",
   "execution_count": 22,
   "metadata": {},
   "outputs": [],
   "source": [
    "xtrain = np.ones([20000,2])\n",
    "ytrain = np.ones([20000,1])\n",
    "\n",
    "test_count=0\n",
    "train_count=0\n",
    "net_count=0\n",
    "for i in movies_actor_features:\n",
    "    \n",
    "    if(i not in movie_to_rating):\n",
    "        continue\n",
    "    if (i not in movies_director_feature) or (i not in movies_actor_features):\n",
    "        continue\n",
    "   \n",
    "    net_count=net_count+1\n",
    "    rating = movie_to_rating[i]\n",
    "    if('Batman v ' in i) or ('Mission: Impossible - Rogue Nation (2015)' in i) or('Minions (2015)' in i):\n",
    "        print(i)\n",
    "        print(test_count)\n",
    "        ytest[test_count]=rating\n",
    "        xtest[test_count][0]=movies_director_feature[i]\n",
    "        xtest[test_count][1]=movies_actor_features[i]\n",
    "        test_count=test_count+1\n",
    "        \n",
    "    else:\n",
    "        if(train_count>=10000):\n",
    "            continue\n",
    "        ytrain[train_count]=rating\n",
    "        xtrain[train_count][0]=movies_director_feature[i]\n",
    "        xtrain[train_count][1]=movies_actor_features[i]\n",
    "        train_count=train_count+1\n",
    "        \n",
    "        \n",
    "\n",
    "\n",
    "    \n",
    "    \n",
    "    "
   ]
  },
  {
   "cell_type": "code",
   "execution_count": 23,
   "metadata": {},
   "outputs": [
    {
     "data": {
      "text/plain": [
       "130739"
      ]
     },
     "execution_count": 23,
     "metadata": {},
     "output_type": "execute_result"
    }
   ],
   "source": [
    "net_count"
   ]
  },
  {
   "cell_type": "code",
   "execution_count": 40,
   "metadata": {},
   "outputs": [
    {
     "data": {
      "text/plain": [
       "(20000, 2)"
      ]
     },
     "execution_count": 40,
     "metadata": {},
     "output_type": "execute_result"
    }
   ],
   "source": [
    "xtrain.shape"
   ]
  },
  {
   "cell_type": "code",
   "execution_count": 43,
   "metadata": {},
   "outputs": [],
   "source": [
    "n_dim=2\n",
    "\n",
    "\n",
    "X = tf.placeholder(tf.float32,[None,n_dim])\n",
    "Y = tf.placeholder(tf.float32,[None,1])\n",
    "W = tf.Variable(tf.ones([n_dim,1]))\n",
    "#b=  tf.Variable(tf.ones([n_dim],1))\n",
    "y_ = tf.matmul(X, W)\n",
    "cost = tf.reduce_mean(tf.square(y_ - Y))\n",
    "training_step = tf.train.GradientDescentOptimizer(0.01).minimize(cost)"
   ]
  },
  {
   "cell_type": "code",
   "execution_count": 58,
   "metadata": {},
   "outputs": [
    {
     "name": "stdout",
     "output_type": "stream",
     "text": [
      "1.9160347256111838\n",
      "1.7491347353660294\n",
      "0.7042404863123226\n",
      "0.47064780072405854\n",
      "0.5291442932695644\n",
      "0.3433399898017266\n"
     ]
    }
   ],
   "source": [
    "import math\n",
    "sess.run(tf.global_variables_initializer())\n",
    "batch_size=10\n",
    "flag=0\n",
    "for epoch in range(1,30):\n",
    "    for i in range(1,20000,batch_size):\n",
    "        train_batch=xtrain[i:i+batch_size]\n",
    "        train_batch_y=ytrain[i:i+batch_size]\n",
    "    \n",
    "        sess.run(training_step,feed_dict={X:train_batch,Y:train_batch_y})\n",
    "        #print(epoch)\n",
    "        \n",
    "        x =math.sqrt(sess.run(cost,feed_dict={X:xtest,Y:ytest}))\n",
    "        print(x)\n",
    "   \n",
    "       \n",
    "       "
   ]
  },
  {
   "cell_type": "code",
   "execution_count": null,
   "metadata": {},
   "outputs": [],
   "source": []
  },
  {
   "cell_type": "code",
   "execution_count": 51,
   "metadata": {},
   "outputs": [],
   "source": [
    "xtest = np.ones([3,2])\n",
    "ytest = np.ones([3,1])\n",
    "xtest[0][0]=movies_actor_features['Batman v Superman: Dawn of Justice (2016)  ']\n",
    "xtest[0][1]=movies_director_feature['Batman v Superman: Dawn of Justice (2016)']\n",
    "ytest[0]= 6.6\n",
    "\n",
    "xtest[1][0]=6.536666666666667\n",
    "xtest[1][1]=movies_director_feature['Minions (2015)']\n",
    "ytest[1]=6.4\n",
    "\n",
    "xtest[2][0]=movies_actor_features['Mission: Impossible - Rogue Nation (2015)  (uncredited)  ']\n",
    "xtest[2][1]=movies_director_feature['Mission: Impossible - Rogue Nation (2015)']\n",
    "ytest[2]=7.4"
   ]
  },
  {
   "cell_type": "code",
   "execution_count": 59,
   "metadata": {},
   "outputs": [
    {
     "name": "stdout",
     "output_type": "stream",
     "text": [
      "0.3433399898017266\n"
     ]
    }
   ],
   "source": [
    "print(math.sqrt(sess.run(cost,feed_dict={X:xtest,Y:ytest})))"
   ]
  },
  {
   "cell_type": "code",
   "execution_count": 60,
   "metadata": {},
   "outputs": [
    {
     "name": "stdout",
     "output_type": "stream",
     "text": [
      "[[6.6271515]\n",
      " [6.6932974]\n",
      " [6.8833895]]\n"
     ]
    }
   ],
   "source": [
    "print(sess.run(y_,feed_dict={X:xtest,Y:ytest}))"
   ]
  },
  {
   "cell_type": "code",
   "execution_count": 217,
   "metadata": {},
   "outputs": [
    {
     "data": {
      "text/plain": [
       "0.42756909383162855"
      ]
     },
     "execution_count": 217,
     "metadata": {},
     "output_type": "execute_result"
    }
   ],
   "source": [
    "import math\n",
    "math.sqrt(0.18281533)"
   ]
  },
  {
   "cell_type": "code",
   "execution_count": 61,
   "metadata": {},
   "outputs": [
    {
     "name": "stdout",
     "output_type": "stream",
     "text": [
      "0.17856426160769248\n"
     ]
    }
   ],
   "source": [
    "a=tf.placeholder(tf.float32,[None,1])\n",
    "b = tf.placeholder(tf.float32,[None,1])\n",
    "cost_13 = tf.reduce_mean(tf.square(a - b))\n",
    "y_test13=np.ones([3,1])\n",
    "y_test13[0]=6.373333333333334\n",
    "y_test13[1]=6.536666666666667\n",
    "y_test13[2]= 7.24\n",
    "print(math.sqrt(sess.run(cost_13,feed_dict={a:ytest,b:y_test13})))"
   ]
  }
 ],
 "metadata": {
  "kernelspec": {
   "display_name": "Python 3",
   "language": "python",
   "name": "python3"
  },
  "language_info": {
   "codemirror_mode": {
    "name": "ipython",
    "version": 3
   },
   "file_extension": ".py",
   "mimetype": "text/x-python",
   "name": "python",
   "nbconvert_exporter": "python",
   "pygments_lexer": "ipython3",
   "version": "3.6.4"
  }
 },
 "nbformat": 4,
 "nbformat_minor": 2
}
